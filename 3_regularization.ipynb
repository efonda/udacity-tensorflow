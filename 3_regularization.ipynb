{
 "cells": [
  {
   "cell_type": "markdown",
   "metadata": {
    "colab_type": "text",
    "id": "kR-4eNdK6lYS"
   },
   "source": [
    "Deep Learning\n",
    "=============\n",
    "\n",
    "Assignment 3\n",
    "------------\n",
    "\n",
    "Previously in `2_fullyconnected.ipynb`, you trained a logistic regression and a neural network model.\n",
    "\n",
    "The goal of this assignment is to explore regularization techniques."
   ]
  },
  {
   "cell_type": "code",
   "execution_count": 2,
   "metadata": {
    "cellView": "both",
    "colab": {
     "autoexec": {
      "startup": false,
      "wait_interval": 0
     }
    },
    "colab_type": "code",
    "collapsed": true,
    "id": "JLpLa8Jt7Vu4"
   },
   "outputs": [],
   "source": [
    "# These are all the modules we'll be using later. Make sure you can import them\n",
    "# before proceeding further.\n",
    "import cPickle as pickle\n",
    "import numpy as np\n",
    "import tensorflow as tf"
   ]
  },
  {
   "cell_type": "markdown",
   "metadata": {
    "colab_type": "text",
    "id": "1HrCK6e17WzV"
   },
   "source": [
    "First reload the data we generated in _notmist.ipynb_."
   ]
  },
  {
   "cell_type": "code",
   "execution_count": 3,
   "metadata": {
    "cellView": "both",
    "colab": {
     "autoexec": {
      "startup": false,
      "wait_interval": 0
     },
     "output_extras": [
      {
       "item_id": 1
      }
     ]
    },
    "colab_type": "code",
    "collapsed": false,
    "executionInfo": {
     "elapsed": 11777,
     "status": "ok",
     "timestamp": 1449849322348,
     "user": {
      "color": "",
      "displayName": "",
      "isAnonymous": false,
      "isMe": true,
      "permissionId": "",
      "photoUrl": "",
      "sessionId": "0",
      "userId": ""
     },
     "user_tz": 480
    },
    "id": "y3-cj1bpmuxc",
    "outputId": "e03576f1-ebbe-4838-c388-f1777bcc9873"
   },
   "outputs": [
    {
     "name": "stdout",
     "output_type": "stream",
     "text": [
      "Training set (200000, 28, 28) (200000,)\n",
      "Validation set (10000, 28, 28) (10000,)\n",
      "Test set (10000, 28, 28) (10000,)\n"
     ]
    }
   ],
   "source": [
    "pickle_file = 'notMNIST.pickle'\n",
    "\n",
    "with open(pickle_file, 'rb') as f:\n",
    "  save = pickle.load(f)\n",
    "  train_dataset = save['train_dataset']\n",
    "  train_labels = save['train_labels']\n",
    "  valid_dataset = save['valid_dataset']\n",
    "  valid_labels = save['valid_labels']\n",
    "  test_dataset = save['test_dataset']\n",
    "  test_labels = save['test_labels']\n",
    "  del save  # hint to help gc free up memory\n",
    "  print 'Training set', train_dataset.shape, train_labels.shape\n",
    "  print 'Validation set', valid_dataset.shape, valid_labels.shape\n",
    "  print 'Test set', test_dataset.shape, test_labels.shape"
   ]
  },
  {
   "cell_type": "markdown",
   "metadata": {
    "colab_type": "text",
    "id": "L7aHrm6nGDMB"
   },
   "source": [
    "Reformat into a shape that's more adapted to the models we're going to train:\n",
    "- data as a flat matrix,\n",
    "- labels as float 1-hot encodings."
   ]
  },
  {
   "cell_type": "code",
   "execution_count": 4,
   "metadata": {
    "cellView": "both",
    "colab": {
     "autoexec": {
      "startup": false,
      "wait_interval": 0
     },
     "output_extras": [
      {
       "item_id": 1
      }
     ]
    },
    "colab_type": "code",
    "collapsed": false,
    "executionInfo": {
     "elapsed": 11728,
     "status": "ok",
     "timestamp": 1449849322356,
     "user": {
      "color": "",
      "displayName": "",
      "isAnonymous": false,
      "isMe": true,
      "permissionId": "",
      "photoUrl": "",
      "sessionId": "0",
      "userId": ""
     },
     "user_tz": 480
    },
    "id": "IRSyYiIIGIzS",
    "outputId": "3f8996ee-3574-4f44-c953-5c8a04636582"
   },
   "outputs": [
    {
     "name": "stdout",
     "output_type": "stream",
     "text": [
      "Training set (200000, 784) (200000, 10)\n",
      "Validation set (10000, 784) (10000, 10)\n",
      "Test set (10000, 784) (10000, 10)\n"
     ]
    }
   ],
   "source": [
    "image_size = 28\n",
    "num_labels = 10\n",
    "\n",
    "def reformat(dataset, labels):\n",
    "  dataset = dataset.reshape((-1, image_size * image_size)).astype(np.float32)\n",
    "  # Map 2 to [0.0, 1.0, 0.0 ...], 3 to [0.0, 0.0, 1.0 ...]\n",
    "  labels = (np.arange(num_labels) == labels[:,None]).astype(np.float32)\n",
    "  return dataset, labels\n",
    "train_dataset, train_labels = reformat(train_dataset, train_labels)\n",
    "valid_dataset, valid_labels = reformat(valid_dataset, valid_labels)\n",
    "test_dataset, test_labels = reformat(test_dataset, test_labels)\n",
    "print 'Training set', train_dataset.shape, train_labels.shape\n",
    "print 'Validation set', valid_dataset.shape, valid_labels.shape\n",
    "print 'Test set', test_dataset.shape, test_labels.shape"
   ]
  },
  {
   "cell_type": "code",
   "execution_count": 5,
   "metadata": {
    "cellView": "both",
    "colab": {
     "autoexec": {
      "startup": false,
      "wait_interval": 0
     }
    },
    "colab_type": "code",
    "collapsed": true,
    "id": "RajPLaL_ZW6w"
   },
   "outputs": [],
   "source": [
    "def accuracy(predictions, labels):\n",
    "  return (100.0 * np.sum(np.argmax(predictions, 1) == np.argmax(labels, 1))\n",
    "          / predictions.shape[0])"
   ]
  },
  {
   "cell_type": "markdown",
   "metadata": {
    "colab_type": "text",
    "id": "sgLbUAQ1CW-1"
   },
   "source": [
    "---\n",
    "Problem 1\n",
    "---------\n",
    "\n",
    "Introduce and tune L2 regularization for both logistic and neural network models. Remember that L2 amounts to adding a penalty on the norm of the weights to the loss. In TensorFlow, you can compue the L2 loss for a tensor `t` using `nn.l2_loss(t)`. The right amount of regularization should improve your validation / test accuracy.\n",
    "\n",
    "---"
   ]
  },
  {
   "cell_type": "code",
   "execution_count": 34,
   "metadata": {
    "collapsed": false
   },
   "outputs": [],
   "source": [
    "batch_size = 128\n",
    "\n",
    "graph = tf.Graph()\n",
    "with graph.as_default():\n",
    "\n",
    "  # Input data. For the training data, we use a placeholder that will be fed\n",
    "  # at run time with a training minibatch.\n",
    "  tf_train_dataset = tf.placeholder(tf.float32,\n",
    "                                    shape=(batch_size, image_size * image_size))\n",
    "  tf_train_labels = tf.placeholder(tf.float32, shape=(batch_size, num_labels))\n",
    "  tf_valid_dataset = tf.constant(valid_dataset)\n",
    "  tf_test_dataset = tf.constant(test_dataset)\n",
    "  #beta = tf.constant(test_dataset)\n",
    "  \n",
    "  # Variables.\n",
    "  weights1 = tf.Variable(\n",
    "    tf.truncated_normal([image_size * image_size, 1024]))\n",
    "  biases1 = tf.Variable(tf.zeros([1024]))\n",
    "    \n",
    "  weights2 = tf.Variable(\n",
    "    tf.truncated_normal([1024, num_labels]))\n",
    "  biases2 = tf.Variable(tf.zeros([num_labels]))  \n",
    "    \n",
    "  \n",
    "  # Training computation.\n",
    "  \n",
    "  intermediate = tf.matmul(tf_train_dataset, weights1) + biases1\n",
    "  logits = tf.matmul(tf.nn.relu(intermediate), weights2) + biases2\n",
    "\n",
    "  loss = tf.reduce_mean(\n",
    "    (tf.nn.softmax_cross_entropy_with_logits(logits, tf_train_labels)) + \n",
    "        0.001 * (tf.nn.l2_loss(weights2) + tf.nn.l2_loss(weights1)))\n",
    "  \n",
    "  # Optimizer.\n",
    "  optimizer = tf.train.GradientDescentOptimizer(0.5).minimize(loss)\n",
    "  \n",
    "  # Predictions for the training, validation, and test data.\n",
    "  train_prediction = tf.nn.softmax(logits)\n",
    "  \n",
    "  intermediate_val = tf.matmul(tf_valid_dataset, weights1) + biases1\n",
    "  logits_val = tf.matmul(tf.nn.relu(intermediate_val), weights2) + biases2\n",
    "  valid_prediction = tf.nn.softmax(logits_val)\n",
    "  #  tf.matmul(tf_valid_dataset, weights) + biases)\n",
    "\n",
    "  intermediate_test = tf.matmul(tf_test_dataset, weights1) + biases1\n",
    "  logits_test = tf.matmul(tf.nn.relu(intermediate_test), weights2) + biases2\n",
    "  test_prediction = tf.nn.softmax(logits_test)\n",
    "  #test_prediction = tf.nn.softmax(tf.matmul(tf_test_dataset, weights) + biases)"
   ]
  },
  {
   "cell_type": "code",
   "execution_count": 20,
   "metadata": {
    "collapsed": false
   },
   "outputs": [
    {
     "name": "stdout",
     "output_type": "stream",
     "text": [
      "Initialized\n",
      "Minibatch loss at step 0 : 329.949\n",
      "Minibatch accuracy: 7.0%\n",
      "Validation accuracy: 18.5%\n",
      "Minibatch loss at step 500 : 47.2746\n",
      "Minibatch accuracy: 82.0%\n",
      "Validation accuracy: 59.6%\n",
      "Minibatch loss at step 1000 : 33.8045\n",
      "Minibatch accuracy: 85.2%\n",
      "Validation accuracy: 62.5%\n",
      "Minibatch loss at step 1500 : 32.7115\n",
      "Minibatch accuracy: 83.6%\n",
      "Validation accuracy: 62.3%\n",
      "Minibatch loss at step 2000 : 26.5482\n",
      "Minibatch accuracy: 85.2%\n",
      "Validation accuracy: 62.4%\n",
      "Minibatch loss at step 2500 : 27.1465\n",
      "Minibatch accuracy: 82.8%\n",
      "Validation accuracy: 61.9%\n",
      "Minibatch loss at step 3000 : 25.7594\n",
      "Minibatch accuracy: 89.1%\n",
      "Validation accuracy: 63.0%\n",
      "Test accuracy: 90.0%\n"
     ]
    }
   ],
   "source": [
    "num_steps = 3001\n",
    "\n",
    "with tf.Session(graph=graph) as session:\n",
    "  tf.initialize_all_variables().run()\n",
    "  print \"Initialized\"\n",
    "  for step in xrange(num_steps):\n",
    "    # Pick an offset within the training data, which has been randomized.\n",
    "    # Note: we could use better randomization across epochs.\n",
    "    offset = (step * batch_size) % (train_labels.shape[0] - batch_size)\n",
    "    # Generate a minibatch.\n",
    "    batch_data = train_dataset[offset:(offset + batch_size), :]\n",
    "    batch_labels = train_labels[offset:(offset + batch_size), :]\n",
    "    # Prepare a dictionary telling the session where to feed the minibatch.\n",
    "    # The key of the dictionary is the placeholder node of the graph to be fed,\n",
    "    # and the value is the numpy array to feed to it.\n",
    "    feed_dict = {tf_train_dataset : batch_data, tf_train_labels : batch_labels}\n",
    "    _, l, predictions = session.run(\n",
    "      [optimizer, loss, train_prediction], feed_dict=feed_dict)\n",
    "    if (step % 500 == 0):\n",
    "      print \"Minibatch loss at step\", step, \":\", l\n",
    "      print \"Minibatch accuracy: %.1f%%\" % accuracy(predictions, batch_labels)\n",
    "      print \"Validation accuracy: %.1f%%\" % accuracy(\n",
    "        valid_prediction.eval(), valid_labels)\n",
    "  print \"Test accuracy: %.1f%%\" % accuracy(test_prediction.eval(), test_labels)"
   ]
  },
  {
   "cell_type": "markdown",
   "metadata": {},
   "source": [
    "**Test results**\n",
    "\n",
    "`loss = loss_unreg\n",
    "Minibatch accuracy: 82.8%\n",
    "Validation accuracy: 64.0%\n",
    "Test accuracy: 89.0%`\n",
    "\n",
    "`loss = loss_unreg + 0.1 * tf.nn.l2_loss(weights2)  \n",
    "Minibatch accuracy: 76.6%  \n",
    "Validation accuracy: 58.2%  \n",
    "Test accuracy: 84.4%  `\n",
    "\n",
    "`loss = loss_unreg + 0.1 * (tf.nn.l2_loss(weights2) +  tf.nn.l2_loss(weights1))  \n",
    "Minibatch accuracy: 80.5%  \n",
    "Validation accuracy: 58.6%  \n",
    "Test accuracy: 84.7%  `\n",
    "\n",
    "`loss = loss_unreg + 0.001 * (tf.nn.l2_loss(weights2) +  tf.nn.l2_loss(weights1))  \n",
    "Minibatch accuracy: 89.8%  \n",
    "Validation accuracy: 71.6%  \n",
    "Test accuracy: 93.3%  `\n",
    "\n",
    "`loss = loss_unreg + 0.0001 * (tf.nn.l2_loss(weights2) +  tf.nn.l2_loss(weights1))  \n",
    "Minibatch accuracy: 89.1%  \n",
    "Validation accuracy: 63.0%  \n",
    "Test accuracy: 90.0%`"
   ]
  },
  {
   "cell_type": "markdown",
   "metadata": {
    "colab_type": "text",
    "id": "na8xX2yHZzNF"
   },
   "source": [
    "---\n",
    "Problem 2\n",
    "---------\n",
    "Let's demonstrate an extreme case of overfitting. Restrict your training data to just a few batches. What happens?\n",
    "\n",
    "---"
   ]
  },
  {
   "cell_type": "code",
   "execution_count": 36,
   "metadata": {
    "collapsed": false
   },
   "outputs": [
    {
     "name": "stdout",
     "output_type": "stream",
     "text": [
      "Initialized\n",
      "Minibatch loss at step 0 : 653.406\n",
      "Minibatch accuracy: 15.6%\n",
      "Validation accuracy: 22.4%\n",
      "Minibatch loss at step 4 : 1124.75\n",
      "Minibatch accuracy: 45.3%\n",
      "Validation accuracy: 38.5%\n",
      "Test accuracy: 59.0%\n"
     ]
    }
   ],
   "source": [
    "num_steps = 5\n",
    "\n",
    "with tf.Session(graph=graph) as session:\n",
    "  tf.initialize_all_variables().run()\n",
    "  print \"Initialized\"\n",
    "  for step in xrange(num_steps):\n",
    "\n",
    "    offset = (step * batch_size) % (train_labels.shape[0] - batch_size)\n",
    "\n",
    "    batch_data = train_dataset[offset:(offset + batch_size), :]\n",
    "    batch_labels = train_labels[offset:(offset + batch_size), :]\n",
    "\n",
    "    feed_dict = {tf_train_dataset : batch_data, tf_train_labels : batch_labels}\n",
    "    _, l, predictions = session.run(\n",
    "      [optimizer, loss, train_prediction], feed_dict=feed_dict)\n",
    "    \n",
    "    if (step % 4 == 0):\n",
    "      print \"Minibatch loss at step\", step, \":\", l\n",
    "      print \"Minibatch accuracy: %.1f%%\" % accuracy(predictions, batch_labels)\n",
    "      print \"Validation accuracy: %.1f%%\" % accuracy(\n",
    "        valid_prediction.eval(), valid_labels)\n",
    "    \n",
    "  print \"Test accuracy: %.1f%%\" % accuracy(test_prediction.eval(), test_labels)"
   ]
  },
  {
   "cell_type": "markdown",
   "metadata": {},
   "source": [
    "`num_steps = 30 `\n",
    "`Test accuracy: 82.0%\n",
    "Test accuracy: 82.8%`\n",
    "\n",
    "\n",
    "`num_steps = 21`\n",
    "`Test accuracy: 83.8%\n",
    "Test accuracy: 81.4%`\n",
    "\n",
    "`num_steps = 5\n",
    "Test accuracy: 62.8%\n",
    "Test accuracy: 59.0`\n",
    "\n",
    "\n"
   ]
  },
  {
   "cell_type": "markdown",
   "metadata": {
    "colab_type": "text",
    "id": "ww3SCBUdlkRc"
   },
   "source": [
    "---\n",
    "Problem 3\n",
    "---------\n",
    "Introduce Dropout on the hidden layer of the neural network. Remember: Dropout should only be introduced during training, not evaluation, otherwise your evaluation results would be stochastic as well. TensorFlow provides `nn.dropout()` for that, but you have to make sure it's only inserted during training.\n",
    "\n",
    "What happens to our extreme overfitting case?\n",
    "\n",
    "---"
   ]
  },
  {
   "cell_type": "code",
   "execution_count": 60,
   "metadata": {
    "collapsed": false
   },
   "outputs": [],
   "source": [
    "batch_size = 128\n",
    "\n",
    "graph = tf.Graph()\n",
    "with graph.as_default():\n",
    "\n",
    "  # Input data. For the training data, we use a placeholder that will be fed\n",
    "  # at run time with a training minibatch.\n",
    "  tf_train_dataset = tf.placeholder(tf.float32,\n",
    "                                    shape=(batch_size, image_size * image_size))\n",
    "  tf_train_labels = tf.placeholder(tf.float32, shape=(batch_size, num_labels))\n",
    "  tf_valid_dataset = tf.constant(valid_dataset)\n",
    "  tf_test_dataset = tf.constant(test_dataset)\n",
    "  #beta = tf.constant(test_dataset)\n",
    "  \n",
    "  # Variables.\n",
    "  weights1 = tf.Variable(\n",
    "    tf.truncated_normal([image_size * image_size, 1024]))\n",
    "  biases1 = tf.Variable(tf.zeros([1024]))\n",
    "    \n",
    "  weights2 = tf.Variable(\n",
    "    tf.truncated_normal([1024, num_labels]))\n",
    "  biases2 = tf.Variable(tf.zeros([num_labels]))  \n",
    "    \n",
    "  \n",
    "  # Training computation.\n",
    "  \n",
    "  first = tf.matmul(tf_train_dataset, weights1) + biases1\n",
    "  intermediate = tf.nn.dropout(first,0.5)  \n",
    "  logits = tf.matmul(tf.nn.relu(intermediate), weights2) + biases2\n",
    "\n",
    "  loss = tf.reduce_mean(\n",
    "    (tf.nn.softmax_cross_entropy_with_logits(logits, tf_train_labels)) + \n",
    "        0.001 * (tf.nn.l2_loss(weights2) + tf.nn.l2_loss(weights1)))\n",
    "  \n",
    "  # Optimizer.\n",
    "  optimizer = tf.train.GradientDescentOptimizer(0.5).minimize(loss)\n",
    "  \n",
    "  # Predictions for the training, validation, and test data.\n",
    "  train_prediction = tf.nn.softmax(logits)\n",
    "  \n",
    "  intermediate_val = tf.matmul(tf_valid_dataset, weights1) + biases1\n",
    "  logits_val = tf.matmul(tf.nn.relu(intermediate_val), weights2) + biases2\n",
    "  valid_prediction = tf.nn.softmax(logits_val)\n",
    "  #  tf.matmul(tf_valid_dataset, weights) + biases)\n",
    "\n",
    "  intermediate_test = tf.matmul(tf_test_dataset, weights1) + biases1\n",
    "  logits_test = tf.matmul(tf.nn.relu(intermediate_test), weights2) + biases2\n",
    "  test_prediction = tf.nn.softmax(logits_test)\n",
    "  #test_prediction = tf.nn.softmax(tf.matmul(tf_test_dataset, weights) + biases)"
   ]
  },
  {
   "cell_type": "code",
   "execution_count": 61,
   "metadata": {
    "collapsed": false
   },
   "outputs": [
    {
     "name": "stdout",
     "output_type": "stream",
     "text": [
      "Initialized\n",
      "Minibatch loss at step 0 : 789.765\n",
      "Minibatch accuracy: 14.8%\n",
      "Validation accuracy: 23.4%\n",
      "Minibatch loss at step 4 : 652.969\n",
      "Minibatch accuracy: 50.8%\n",
      "Validation accuracy: 42.4%\n",
      "Test accuracy: 63.7%\n"
     ]
    }
   ],
   "source": [
    "num_steps = 5\n",
    "\n",
    "with tf.Session(graph=graph) as session:\n",
    "  tf.initialize_all_variables().run()\n",
    "  print \"Initialized\"\n",
    "  for step in xrange(num_steps):\n",
    "\n",
    "    offset = (step * batch_size) % (train_labels.shape[0] - batch_size)\n",
    "\n",
    "    batch_data = train_dataset[offset:(offset + batch_size), :]\n",
    "    batch_labels = train_labels[offset:(offset + batch_size), :]\n",
    "\n",
    "    feed_dict = {tf_train_dataset : batch_data, tf_train_labels : batch_labels}\n",
    "    _, l, predictions = session.run(\n",
    "      [optimizer, loss, train_prediction], feed_dict=feed_dict)\n",
    "    \n",
    "    if (step % 4 == 0):\n",
    "      print \"Minibatch loss at step\", step, \":\", l\n",
    "      print \"Minibatch accuracy: %.1f%%\" % accuracy(predictions, batch_labels)\n",
    "      print \"Validation accuracy: %.1f%%\" % accuracy(\n",
    "        valid_prediction.eval(), valid_labels)\n",
    "    \n",
    "  print \"Test accuracy: %.1f%%\" % accuracy(test_prediction.eval(), test_labels)"
   ]
  },
  {
   "cell_type": "markdown",
   "metadata": {
    "colab_type": "text",
    "id": "-b1hTz3VWZjw"
   },
   "source": [
    "---\n",
    "Problem 4\n",
    "---------\n",
    "\n",
    "Try to get the best performance you can using a multi-layer model! The best reported test accuracy using a deep network is [97.1%](http://yaroslavvb.blogspot.com/2011/09/notmnist-dataset.html?showComment=1391023266211#c8758720086795711595).\n",
    "\n",
    "One avenue you can explore is to add multiple layers.\n",
    "\n",
    "Another one is to use learning rate decay:\n",
    "\n",
    "    global_step = tf.Variable(0)  # count the number of steps taken.\n",
    "    learning_rate = tf.train.exponential_decay(0.5, step, ...)\n",
    "    optimizer = tf.train.GradientDescentOptimizer(learning_rate).minimize(loss, global_step=global_step)\n",
    " \n",
    " ---\n"
   ]
  },
  {
   "cell_type": "code",
   "execution_count": 68,
   "metadata": {
    "collapsed": true
   },
   "outputs": [],
   "source": [
    "batch_size = 128\n",
    "\n",
    "graph = tf.Graph()\n",
    "with graph.as_default():\n",
    "\n",
    "  # Input data. For the training data, we use a placeholder that will be fed\n",
    "  # at run time with a training minibatch.\n",
    "  tf_train_dataset = tf.placeholder(tf.float32,\n",
    "                                    shape=(batch_size, image_size * image_size))\n",
    "  tf_train_labels = tf.placeholder(tf.float32, shape=(batch_size, num_labels))\n",
    "  tf_valid_dataset = tf.constant(valid_dataset)\n",
    "  tf_test_dataset = tf.constant(test_dataset)\n",
    "  #beta = tf.constant(test_dataset)\n",
    "  \n",
    "  # Variables.\n",
    "  weights1 = tf.Variable(\n",
    "    tf.truncated_normal([image_size * image_size, 1024]))\n",
    "  biases1 = tf.Variable(tf.zeros([1024]))\n",
    "    \n",
    "  weights2 = tf.Variable(\n",
    "    tf.truncated_normal([1024, num_labels]))\n",
    "  biases2 = tf.Variable(tf.zeros([num_labels]))  \n",
    "  \n",
    "  global_step = tf.Variable(0) \n",
    "\n",
    "  # Training computation.\n",
    "  \n",
    "  first = tf.matmul(tf_train_dataset, weights1) + biases1\n",
    "  intermediate = tf.nn.dropout(first,0.5)  \n",
    "  logits = tf.matmul(tf.nn.relu(intermediate), weights2) + biases2\n",
    "\n",
    "  loss = tf.reduce_mean(\n",
    "    (tf.nn.softmax_cross_entropy_with_logits(logits, tf_train_labels)) + \n",
    "        0.001 * (tf.nn.l2_loss(weights2) + tf.nn.l2_loss(weights1)))\n",
    "    \n",
    "    \n",
    "   #tf.train.exponential_decay(learning_rate, global_step, \n",
    "    #decay_steps, decay_rate, staircase=False, name=None)\n",
    "      \n",
    "  learning_rate = tf.train.exponential_decay(0.5, global_step, 1000, 0.96, staircase=False)\n",
    "  # Optimizer.\n",
    "  #optimizer = tf.train.GradientDescentOptimizer(0.5).minimize(loss)\n",
    "  optimizer = tf.train.GradientDescentOptimizer(learning_rate).minimize(loss, global_step=global_step)\n",
    "  \n",
    "  # Predictions for the training, validation, and test data.\n",
    "  train_prediction = tf.nn.softmax(logits)\n",
    "  \n",
    "  intermediate_val = tf.matmul(tf_valid_dataset, weights1) + biases1\n",
    "  logits_val = tf.matmul(tf.nn.relu(intermediate_val), weights2) + biases2\n",
    "  valid_prediction = tf.nn.softmax(logits_val)\n",
    "  #  tf.matmul(tf_valid_dataset, weights) + biases)\n",
    "\n",
    "  intermediate_test = tf.matmul(tf_test_dataset, weights1) + biases1\n",
    "  logits_test = tf.matmul(tf.nn.relu(intermediate_test), weights2) + biases2\n",
    "  test_prediction = tf.nn.softmax(logits_test)\n",
    "  #test_prediction = tf.nn.softmax(tf.matmul(tf_test_dataset, weights) + biases)"
   ]
  },
  {
   "cell_type": "code",
   "execution_count": 69,
   "metadata": {
    "collapsed": false
   },
   "outputs": [
    {
     "name": "stdout",
     "output_type": "stream",
     "text": [
      "Initialized\n",
      "Minibatch loss at step 0 : 774.129\n",
      "Minibatch accuracy: 10.9%\n",
      "Validation accuracy: 20.9%\n",
      "Minibatch loss at step 500 : 210.153\n",
      "Minibatch accuracy: 81.2%\n",
      "Validation accuracy: 62.2%\n",
      "Minibatch loss at step 1000 : 121.482\n",
      "Minibatch accuracy: 79.7%\n",
      "Validation accuracy: 62.3%\n",
      "Minibatch loss at step 1500 : 72.3026\n",
      "Minibatch accuracy: 79.7%\n",
      "Validation accuracy: 62.5%\n",
      "Minibatch loss at step 2000 : 44.9501\n",
      "Minibatch accuracy: 79.7%\n",
      "Validation accuracy: 65.6%\n",
      "Minibatch loss at step 2500 : 28.7603\n",
      "Minibatch accuracy: 79.7%\n",
      "Validation accuracy: 66.8%\n",
      "Minibatch loss at step 3000 : 18.3158\n",
      "Minibatch accuracy: 86.7%\n",
      "Validation accuracy: 69.8%\n",
      "Test accuracy: 91.6%\n"
     ]
    }
   ],
   "source": [
    "num_steps = 3001\n",
    "\n",
    "with tf.Session(graph=graph) as session:\n",
    "  tf.initialize_all_variables().run()\n",
    "  print \"Initialized\"\n",
    "  for step in xrange(num_steps):\n",
    "\n",
    "    offset = (step * batch_size) % (train_labels.shape[0] - batch_size)\n",
    "\n",
    "    batch_data = train_dataset[offset:(offset + batch_size), :]\n",
    "    batch_labels = train_labels[offset:(offset + batch_size), :]\n",
    "\n",
    "    feed_dict = {tf_train_dataset : batch_data, tf_train_labels : batch_labels}\n",
    "    _, l, predictions = session.run(\n",
    "      [optimizer, loss, train_prediction], feed_dict=feed_dict)\n",
    "    \n",
    "    if (step % 500 == 0):\n",
    "      print \"Minibatch loss at step\", step, \":\", l\n",
    "      print \"Minibatch accuracy: %.1f%%\" % accuracy(predictions, batch_labels)\n",
    "      print \"Validation accuracy: %.1f%%\" % accuracy(\n",
    "        valid_prediction.eval(), valid_labels)\n",
    "    \n",
    "  print \"Test accuracy: %.1f%%\" % accuracy(test_prediction.eval(), test_labels)"
   ]
  },
  {
   "cell_type": "markdown",
   "metadata": {},
   "source": [
    "`num_steps = 5\n",
    "Test accuracy: 67.8%`\n",
    "\n",
    "`num_steps = 3001\n",
    "Test accuracy: 92.1% (straircase = True)\n",
    "Test accuracy: 91.9% (staircase = False)`"
   ]
  },
  {
   "cell_type": "code",
   "execution_count": 44,
   "metadata": {
    "collapsed": false
   },
   "outputs": [
    {
     "name": "stdout",
     "output_type": "stream",
     "text": [
      "Variable            Type         Data/Info\n",
      "------------------------------------------\n",
      "accuracy            function     <function accuracy at 0x1082ffaa0>\n",
      "batch_data          ndarray      128x784: 100352 elems, type `float32`, 401408 bytes (392 kb)\n",
      "batch_labels        ndarray      128x10: 1280 elems, type `float32`, 5120 bytes\n",
      "batch_size          int          128\n",
      "biases1             Variable     <tensorflow.python.ops.va<...>le object at 0x1384fb290>\n",
      "biases2             Variable     <tensorflow.python.ops.va<...>le object at 0x13dd9a910>\n",
      "f                   file         <closed file 'notMNIST.pi<...>mode 'rb' at 0x1082ee8a0>\n",
      "feed_dict           dict         n=2\n",
      "first               Tensor       Tensor(\"add:0\", shape=Ten<...>n(1024)]), dtype=float32)\n",
      "graph               Graph        <tensorflow.python.framew<...>ph object at 0x1384fca50>\n",
      "image_size          int          28\n",
      "intermediate        Tensor       Tensor(\"dropout/mul_1:0\",<...>n(1024)]), dtype=float32)\n",
      "intermediate_test   Tensor       Tensor(\"add_6:0\", shape=T<...>n(1024)]), dtype=float32)\n",
      "intermediate_val    Tensor       Tensor(\"add_4:0\", shape=T<...>n(1024)]), dtype=float32)\n",
      "l                   float32      1235.98\n",
      "logits              Tensor       Tensor(\"add_1:0\", shape=T<...>ion(10)]), dtype=float32)\n",
      "logits_test         Tensor       Tensor(\"add_7:0\", shape=T<...>ion(10)]), dtype=float32)\n",
      "logits_val          Tensor       Tensor(\"add_5:0\", shape=T<...>ion(10)]), dtype=float32)\n",
      "loss                Tensor       Tensor(\"Mean:0\", shape=Te<...>Shape([]), dtype=float32)\n",
      "np                  module       <module 'numpy' from '/Us<...>ages/numpy/__init__.pyc'>\n",
      "num_labels          int          10\n",
      "num_steps           int          5\n",
      "offset              int          512\n",
      "optimizer           Operation    name: \"GradientDescent\"\\n<...>3/ApplyGradientDescent\"\\n\n",
      "pickle              module       <module 'cPickle' from '/<...>/lib-dynload/cPickle.so'>\n",
      "pickle_file         str          notMNIST.pickle\n",
      "predictions         ndarray      128x10: 1280 elems, type `float32`, 5120 bytes\n",
      "reformat            function     <function reformat at 0x1082ff938>\n",
      "session             Session      <tensorflow.python.client<...>on object at 0x135376790>\n",
      "step                int          4\n",
      "test_dataset        ndarray      10000x784: 7840000 elems, type `float32`, 31360000 bytes (29 Mb)\n",
      "test_labels         ndarray      10000x10: 100000 elems, type `float32`, 400000 bytes (390 kb)\n",
      "test_prediction     Tensor       Tensor(\"Softmax_2:0\", sha<...>ion(10)]), dtype=float32)\n",
      "tf                  module       <module 'tensorflow' from<...>tensorflow/__init__.pyc'>\n",
      "tf_test_dataset     Tensor       Tensor(\"Const_1:0\", shape<...>on(784)]), dtype=float32)\n",
      "tf_train_dataset    Tensor       Tensor(\"Placeholder:0\", s<...>on(784)]), dtype=float32)\n",
      "tf_train_labels     Tensor       Tensor(\"Placeholder_1:0\",<...>ion(10)]), dtype=float32)\n",
      "tf_valid_dataset    Tensor       Tensor(\"Const:0\", shape=T<...>on(784)]), dtype=float32)\n",
      "train_dataset       ndarray      200000x784: 156800000 elems, type `float32`, 627200000 bytes (598 Mb)\n",
      "train_labels        ndarray      200000x10: 2000000 elems, type `float32`, 8000000 bytes (7 Mb)\n",
      "train_prediction    Tensor       Tensor(\"Softmax:0\", shape<...>ion(10)]), dtype=float32)\n",
      "valid_dataset       ndarray      10000x784: 7840000 elems, type `float32`, 31360000 bytes (29 Mb)\n",
      "valid_labels        ndarray      10000x10: 100000 elems, type `float32`, 400000 bytes (390 kb)\n",
      "valid_prediction    Tensor       Tensor(\"Softmax_1:0\", sha<...>ion(10)]), dtype=float32)\n",
      "weights1            Variable     <tensorflow.python.ops.va<...>le object at 0x138505bd0>\n",
      "weights2            Variable     <tensorflow.python.ops.va<...>le object at 0x1384fb710>\n",
      "weights3            Variable     <tensorflow.python.ops.va<...>le object at 0x13dd9a190>\n"
     ]
    }
   ],
   "source": [
    "whos"
   ]
  },
  {
   "cell_type": "code",
   "execution_count": 58,
   "metadata": {
    "collapsed": false
   },
   "outputs": [],
   "source": [
    "batch_size = 128\n",
    "\n",
    "graph = tf.Graph()\n",
    "with graph.as_default():\n",
    "\n",
    "  # Input data. For the training data, we use a placeholder that will be fed\n",
    "  # at run time with a training minibatch.\n",
    "  tf_train_dataset = tf.placeholder(tf.float32,\n",
    "                                    shape=(batch_size, image_size * image_size))\n",
    "  tf_train_labels = tf.placeholder(tf.float32, shape=(batch_size, num_labels))\n",
    "  tf_valid_dataset = tf.constant(valid_dataset)\n",
    "  tf_test_dataset = tf.constant(test_dataset)\n",
    "  #beta = tf.constant(test_dataset)\n",
    "  \n",
    "  # Variables.\n",
    "  weights1 = tf.Variable(\n",
    "    tf.truncated_normal([image_size * image_size, 1024]))\n",
    "  biases1 = tf.Variable(tf.zeros([1024]))\n",
    "    \n",
    "  weights2 = tf.Variable(\n",
    "    tf.truncated_normal([1024, 1024]))\n",
    "  biases2 = tf.Variable(tf.zeros([1024]))  \n",
    "    \n",
    "  weights3 = tf.Variable(\n",
    "    tf.truncated_normal([1024, num_labels]))\n",
    "  biases3 = tf.Variable(tf.zeros([num_labels]))  \n",
    "    \n",
    "  \n",
    "  # Training computation.\n",
    "  \n",
    "  first = tf.matmul(tf_train_dataset, weights1) + biases1\n",
    "  intermediate = tf.nn.dropout(first,0.5)  \n",
    "  second = tf.matmul(tf.nn.relu(intermediate), weights2) + biases2\n",
    "  intermediate2 = tf.nn.dropout(second,0.5)  \n",
    "  logits = tf.matmul(tf.nn.relu(intermediate2), weights3) + biases3\n",
    "\n",
    "  loss = tf.reduce_mean(\n",
    "    (tf.nn.softmax_cross_entropy_with_logits(logits, tf_train_labels)) + \n",
    "        0.00 * (tf.nn.l2_loss(weights3) + tf.nn.l2_loss(weights2) + tf.nn.l2_loss(weights1)))\n",
    "  \n",
    "  # Optimizer.\n",
    "  optimizer = tf.train.GradientDescentOptimizer(0.5).minimize(loss)\n",
    "  \n",
    "  # Predictions for the training, validation, and test data.\n",
    "  train_prediction = tf.nn.softmax(logits)\n",
    "  \n",
    "  intermediate_val = tf.matmul(tf_valid_dataset, weights1) + biases1\n",
    "  intermediate_val2 = tf.matmul(tf.nn.relu(intermediate_val), weights2) + biases2\n",
    "  logits_val = tf.matmul(tf.nn.relu(intermediate_val2), weights3) + biases3\n",
    "  valid_prediction = tf.nn.softmax(logits_val)\n",
    "  #  tf.matmul(tf_valid_dataset, weights) + biases)\n",
    "\n",
    "  intermediate_test = tf.matmul(tf_test_dataset, weights1) + biases1\n",
    "  intermediate_test2 = tf.matmul(tf.nn.relu(intermediate_test), weights2) + biases2\n",
    "  logits_test = tf.matmul(tf.nn.relu(intermediate_test2), weights3) + biases3\n",
    "  test_prediction = tf.nn.softmax(logits_test)\n",
    "  #test_prediction = tf.nn.softmax(tf.matmul(tf_test_dataset, weights) + biases)"
   ]
  },
  {
   "cell_type": "code",
   "execution_count": 59,
   "metadata": {
    "collapsed": false
   },
   "outputs": [
    {
     "name": "stdout",
     "output_type": "stream",
     "text": [
      "Initialized\n",
      "Minibatch loss at step 0 : 14087.2\n",
      "Minibatch accuracy: 8.6%\n",
      "Validation accuracy: 10.1%\n",
      "Minibatch loss at step 4 : 5.5053e+32\n",
      "Minibatch accuracy: 13.3%\n",
      "Validation accuracy: 10.0%\n"
     ]
    },
    {
     "ename": "InvalidArgumentError",
     "evalue": "ReluGrad input is not finite. : Tensor had Inf and NaN values\n\t [[Node: gradients/Relu_1_grad/Relu_1/CheckNumerics = CheckNumerics[T=DT_FLOAT, message=\"ReluGrad input is not finite.\", _device=\"/job:localhost/replica:0/task:0/cpu:0\"](dropout_1/mul_1)]]\nCaused by op u'gradients/Relu_1_grad/Relu_1/CheckNumerics', defined at:\n  File \"/Users/enricofonda/anaconda/lib/python2.7/runpy.py\", line 162, in _run_module_as_main\n    \"__main__\", fname, loader, pkg_name)\n  File \"/Users/enricofonda/anaconda/lib/python2.7/runpy.py\", line 72, in _run_code\n    exec code in run_globals\n  File \"/Users/enricofonda/anaconda/lib/python2.7/site-packages/ipykernel/__main__.py\", line 3, in <module>\n    app.launch_new_instance()\n  File \"/Users/enricofonda/anaconda/lib/python2.7/site-packages/traitlets/config/application.py\", line 589, in launch_instance\n    app.start()\n  File \"/Users/enricofonda/anaconda/lib/python2.7/site-packages/ipykernel/kernelapp.py\", line 405, in start\n    ioloop.IOLoop.instance().start()\n  File \"/Users/enricofonda/anaconda/lib/python2.7/site-packages/zmq/eventloop/ioloop.py\", line 162, in start\n    super(ZMQIOLoop, self).start()\n  File \"/Users/enricofonda/anaconda/lib/python2.7/site-packages/tornado/ioloop.py\", line 883, in start\n    handler_func(fd_obj, events)\n  File \"/Users/enricofonda/anaconda/lib/python2.7/site-packages/tornado/stack_context.py\", line 275, in null_wrapper\n    return fn(*args, **kwargs)\n  File \"/Users/enricofonda/anaconda/lib/python2.7/site-packages/zmq/eventloop/zmqstream.py\", line 440, in _handle_events\n    self._handle_recv()\n  File \"/Users/enricofonda/anaconda/lib/python2.7/site-packages/zmq/eventloop/zmqstream.py\", line 472, in _handle_recv\n    self._run_callback(callback, msg)\n  File \"/Users/enricofonda/anaconda/lib/python2.7/site-packages/zmq/eventloop/zmqstream.py\", line 414, in _run_callback\n    callback(*args, **kwargs)\n  File \"/Users/enricofonda/anaconda/lib/python2.7/site-packages/tornado/stack_context.py\", line 275, in null_wrapper\n    return fn(*args, **kwargs)\n  File \"/Users/enricofonda/anaconda/lib/python2.7/site-packages/ipykernel/kernelbase.py\", line 260, in dispatcher\n    return self.dispatch_shell(stream, msg)\n  File \"/Users/enricofonda/anaconda/lib/python2.7/site-packages/ipykernel/kernelbase.py\", line 212, in dispatch_shell\n    handler(stream, idents, msg)\n  File \"/Users/enricofonda/anaconda/lib/python2.7/site-packages/ipykernel/kernelbase.py\", line 370, in execute_request\n    user_expressions, allow_stdin)\n  File \"/Users/enricofonda/anaconda/lib/python2.7/site-packages/ipykernel/ipkernel.py\", line 175, in do_execute\n    shell.run_cell(code, store_history=store_history, silent=silent)\n  File \"/Users/enricofonda/anaconda/lib/python2.7/site-packages/IPython/core/interactiveshell.py\", line 2902, in run_cell\n    interactivity=interactivity, compiler=compiler, result=result)\n  File \"/Users/enricofonda/anaconda/lib/python2.7/site-packages/IPython/core/interactiveshell.py\", line 3006, in run_ast_nodes\n    if self.run_code(code, result):\n  File \"/Users/enricofonda/anaconda/lib/python2.7/site-packages/IPython/core/interactiveshell.py\", line 3066, in run_code\n    exec(code_obj, self.user_global_ns, self.user_ns)\n  File \"<ipython-input-58-2e31c646be76>\", line 42, in <module>\n    optimizer = tf.train.GradientDescentOptimizer(0.5).minimize(loss)\n  File \"/Users/enricofonda/anaconda/lib/python2.7/site-packages/tensorflow/python/training/optimizer.py\", line 165, in minimize\n    gate_gradients=gate_gradients)\n  File \"/Users/enricofonda/anaconda/lib/python2.7/site-packages/tensorflow/python/training/optimizer.py\", line 205, in compute_gradients\n    loss, var_list, gate_gradients=(gate_gradients == Optimizer.GATE_OP))\n  File \"/Users/enricofonda/anaconda/lib/python2.7/site-packages/tensorflow/python/ops/gradients.py\", line 414, in gradients\n    in_grads = _AsList(grad_fn(op_wrapper, *out_grads))\n  File \"/Users/enricofonda/anaconda/lib/python2.7/site-packages/tensorflow/python/ops/nn_grad.py\", line 107, in _ReluGrad\n    t = _VerifyTensor(op.inputs[0], op.name, \"ReluGrad input is not finite.\")\n  File \"/Users/enricofonda/anaconda/lib/python2.7/site-packages/tensorflow/python/ops/nn_grad.py\", line 100, in _VerifyTensor\n    verify_input = array_ops.check_numerics(t, message=msg)\n  File \"/Users/enricofonda/anaconda/lib/python2.7/site-packages/tensorflow/python/ops/gen_array_ops.py\", line 48, in check_numerics\n    name=name)\n  File \"/Users/enricofonda/anaconda/lib/python2.7/site-packages/tensorflow/python/ops/op_def_library.py\", line 633, in apply_op\n    op_def=op_def)\n  File \"/Users/enricofonda/anaconda/lib/python2.7/site-packages/tensorflow/python/framework/ops.py\", line 1710, in create_op\n    original_op=self._default_original_op, op_def=op_def)\n  File \"/Users/enricofonda/anaconda/lib/python2.7/site-packages/tensorflow/python/framework/ops.py\", line 988, in __init__\n    self._traceback = _extract_stack()\n\n...which was originally created as op u'Relu_1', defined at:\n  File \"/Users/enricofonda/anaconda/lib/python2.7/runpy.py\", line 162, in _run_module_as_main\n    \"__main__\", fname, loader, pkg_name)\n[elided 17 identical lines from previous traceback]\n  File \"/Users/enricofonda/anaconda/lib/python2.7/site-packages/IPython/core/interactiveshell.py\", line 3066, in run_code\n    exec(code_obj, self.user_global_ns, self.user_ns)\n  File \"<ipython-input-58-2e31c646be76>\", line 35, in <module>\n    logits = tf.matmul(tf.nn.relu(intermediate2), weights3) + biases3\n  File \"/Users/enricofonda/anaconda/lib/python2.7/site-packages/tensorflow/python/ops/gen_nn_ops.py\", line 506, in relu\n    return _op_def_lib.apply_op(\"Relu\", features=features, name=name)\n  File \"/Users/enricofonda/anaconda/lib/python2.7/site-packages/tensorflow/python/ops/op_def_library.py\", line 633, in apply_op\n    op_def=op_def)\n  File \"/Users/enricofonda/anaconda/lib/python2.7/site-packages/tensorflow/python/framework/ops.py\", line 1710, in create_op\n    original_op=self._default_original_op, op_def=op_def)\n  File \"/Users/enricofonda/anaconda/lib/python2.7/site-packages/tensorflow/python/framework/ops.py\", line 988, in __init__\n    self._traceback = _extract_stack()\n",
     "output_type": "error",
     "traceback": [
      "\u001b[0;31m---------------------------------------------------------------------------\u001b[0m",
      "\u001b[0;31mInvalidArgumentError\u001b[0m                      Traceback (most recent call last)",
      "\u001b[0;32m<ipython-input-59-fcd3be4b0c3b>\u001b[0m in \u001b[0;36m<module>\u001b[0;34m()\u001b[0m\n\u001b[1;32m     13\u001b[0m     \u001b[0mfeed_dict\u001b[0m \u001b[0;34m=\u001b[0m \u001b[0;34m{\u001b[0m\u001b[0mtf_train_dataset\u001b[0m \u001b[0;34m:\u001b[0m \u001b[0mbatch_data\u001b[0m\u001b[0;34m,\u001b[0m \u001b[0mtf_train_labels\u001b[0m \u001b[0;34m:\u001b[0m \u001b[0mbatch_labels\u001b[0m\u001b[0;34m}\u001b[0m\u001b[0;34m\u001b[0m\u001b[0m\n\u001b[1;32m     14\u001b[0m     _, l, predictions = session.run(\n\u001b[0;32m---> 15\u001b[0;31m       [optimizer, loss, train_prediction], feed_dict=feed_dict)\n\u001b[0m\u001b[1;32m     16\u001b[0m \u001b[0;34m\u001b[0m\u001b[0m\n\u001b[1;32m     17\u001b[0m     \u001b[0;32mif\u001b[0m \u001b[0;34m(\u001b[0m\u001b[0mstep\u001b[0m \u001b[0;34m%\u001b[0m \u001b[0;36m4\u001b[0m \u001b[0;34m==\u001b[0m \u001b[0;36m0\u001b[0m\u001b[0;34m)\u001b[0m\u001b[0;34m:\u001b[0m\u001b[0;34m\u001b[0m\u001b[0m\n",
      "\u001b[0;32m/Users/enricofonda/anaconda/lib/python2.7/site-packages/tensorflow/python/client/session.pyc\u001b[0m in \u001b[0;36mrun\u001b[0;34m(self, fetches, feed_dict)\u001b[0m\n\u001b[1;32m    343\u001b[0m \u001b[0;34m\u001b[0m\u001b[0m\n\u001b[1;32m    344\u001b[0m     \u001b[0;31m# Run request and get response.\u001b[0m\u001b[0;34m\u001b[0m\u001b[0;34m\u001b[0m\u001b[0m\n\u001b[0;32m--> 345\u001b[0;31m     \u001b[0mresults\u001b[0m \u001b[0;34m=\u001b[0m \u001b[0mself\u001b[0m\u001b[0;34m.\u001b[0m\u001b[0m_do_run\u001b[0m\u001b[0;34m(\u001b[0m\u001b[0mtarget_list\u001b[0m\u001b[0;34m,\u001b[0m \u001b[0munique_fetch_targets\u001b[0m\u001b[0;34m,\u001b[0m \u001b[0mfeed_dict_string\u001b[0m\u001b[0;34m)\u001b[0m\u001b[0;34m\u001b[0m\u001b[0m\n\u001b[0m\u001b[1;32m    346\u001b[0m \u001b[0;34m\u001b[0m\u001b[0m\n\u001b[1;32m    347\u001b[0m     \u001b[0;31m# User may have fetched the same tensor multiple times, but we\u001b[0m\u001b[0;34m\u001b[0m\u001b[0;34m\u001b[0m\u001b[0m\n",
      "\u001b[0;32m/Users/enricofonda/anaconda/lib/python2.7/site-packages/tensorflow/python/client/session.pyc\u001b[0m in \u001b[0;36m_do_run\u001b[0;34m(self, target_list, fetch_list, feed_dict)\u001b[0m\n\u001b[1;32m    417\u001b[0m         \u001b[0;31m# pylint: disable=protected-access\u001b[0m\u001b[0;34m\u001b[0m\u001b[0;34m\u001b[0m\u001b[0m\n\u001b[1;32m    418\u001b[0m         raise errors._make_specific_exception(node_def, op, e.error_message,\n\u001b[0;32m--> 419\u001b[0;31m                                               e.code)\n\u001b[0m\u001b[1;32m    420\u001b[0m         \u001b[0;31m# pylint: enable=protected-access\u001b[0m\u001b[0;34m\u001b[0m\u001b[0;34m\u001b[0m\u001b[0m\n\u001b[1;32m    421\u001b[0m       \u001b[0;32mraise\u001b[0m \u001b[0me_type\u001b[0m\u001b[0;34m,\u001b[0m \u001b[0me_value\u001b[0m\u001b[0;34m,\u001b[0m \u001b[0me_traceback\u001b[0m\u001b[0;34m\u001b[0m\u001b[0m\n",
      "\u001b[0;31mInvalidArgumentError\u001b[0m: ReluGrad input is not finite. : Tensor had Inf and NaN values\n\t [[Node: gradients/Relu_1_grad/Relu_1/CheckNumerics = CheckNumerics[T=DT_FLOAT, message=\"ReluGrad input is not finite.\", _device=\"/job:localhost/replica:0/task:0/cpu:0\"](dropout_1/mul_1)]]\nCaused by op u'gradients/Relu_1_grad/Relu_1/CheckNumerics', defined at:\n  File \"/Users/enricofonda/anaconda/lib/python2.7/runpy.py\", line 162, in _run_module_as_main\n    \"__main__\", fname, loader, pkg_name)\n  File \"/Users/enricofonda/anaconda/lib/python2.7/runpy.py\", line 72, in _run_code\n    exec code in run_globals\n  File \"/Users/enricofonda/anaconda/lib/python2.7/site-packages/ipykernel/__main__.py\", line 3, in <module>\n    app.launch_new_instance()\n  File \"/Users/enricofonda/anaconda/lib/python2.7/site-packages/traitlets/config/application.py\", line 589, in launch_instance\n    app.start()\n  File \"/Users/enricofonda/anaconda/lib/python2.7/site-packages/ipykernel/kernelapp.py\", line 405, in start\n    ioloop.IOLoop.instance().start()\n  File \"/Users/enricofonda/anaconda/lib/python2.7/site-packages/zmq/eventloop/ioloop.py\", line 162, in start\n    super(ZMQIOLoop, self).start()\n  File \"/Users/enricofonda/anaconda/lib/python2.7/site-packages/tornado/ioloop.py\", line 883, in start\n    handler_func(fd_obj, events)\n  File \"/Users/enricofonda/anaconda/lib/python2.7/site-packages/tornado/stack_context.py\", line 275, in null_wrapper\n    return fn(*args, **kwargs)\n  File \"/Users/enricofonda/anaconda/lib/python2.7/site-packages/zmq/eventloop/zmqstream.py\", line 440, in _handle_events\n    self._handle_recv()\n  File \"/Users/enricofonda/anaconda/lib/python2.7/site-packages/zmq/eventloop/zmqstream.py\", line 472, in _handle_recv\n    self._run_callback(callback, msg)\n  File \"/Users/enricofonda/anaconda/lib/python2.7/site-packages/zmq/eventloop/zmqstream.py\", line 414, in _run_callback\n    callback(*args, **kwargs)\n  File \"/Users/enricofonda/anaconda/lib/python2.7/site-packages/tornado/stack_context.py\", line 275, in null_wrapper\n    return fn(*args, **kwargs)\n  File \"/Users/enricofonda/anaconda/lib/python2.7/site-packages/ipykernel/kernelbase.py\", line 260, in dispatcher\n    return self.dispatch_shell(stream, msg)\n  File \"/Users/enricofonda/anaconda/lib/python2.7/site-packages/ipykernel/kernelbase.py\", line 212, in dispatch_shell\n    handler(stream, idents, msg)\n  File \"/Users/enricofonda/anaconda/lib/python2.7/site-packages/ipykernel/kernelbase.py\", line 370, in execute_request\n    user_expressions, allow_stdin)\n  File \"/Users/enricofonda/anaconda/lib/python2.7/site-packages/ipykernel/ipkernel.py\", line 175, in do_execute\n    shell.run_cell(code, store_history=store_history, silent=silent)\n  File \"/Users/enricofonda/anaconda/lib/python2.7/site-packages/IPython/core/interactiveshell.py\", line 2902, in run_cell\n    interactivity=interactivity, compiler=compiler, result=result)\n  File \"/Users/enricofonda/anaconda/lib/python2.7/site-packages/IPython/core/interactiveshell.py\", line 3006, in run_ast_nodes\n    if self.run_code(code, result):\n  File \"/Users/enricofonda/anaconda/lib/python2.7/site-packages/IPython/core/interactiveshell.py\", line 3066, in run_code\n    exec(code_obj, self.user_global_ns, self.user_ns)\n  File \"<ipython-input-58-2e31c646be76>\", line 42, in <module>\n    optimizer = tf.train.GradientDescentOptimizer(0.5).minimize(loss)\n  File \"/Users/enricofonda/anaconda/lib/python2.7/site-packages/tensorflow/python/training/optimizer.py\", line 165, in minimize\n    gate_gradients=gate_gradients)\n  File \"/Users/enricofonda/anaconda/lib/python2.7/site-packages/tensorflow/python/training/optimizer.py\", line 205, in compute_gradients\n    loss, var_list, gate_gradients=(gate_gradients == Optimizer.GATE_OP))\n  File \"/Users/enricofonda/anaconda/lib/python2.7/site-packages/tensorflow/python/ops/gradients.py\", line 414, in gradients\n    in_grads = _AsList(grad_fn(op_wrapper, *out_grads))\n  File \"/Users/enricofonda/anaconda/lib/python2.7/site-packages/tensorflow/python/ops/nn_grad.py\", line 107, in _ReluGrad\n    t = _VerifyTensor(op.inputs[0], op.name, \"ReluGrad input is not finite.\")\n  File \"/Users/enricofonda/anaconda/lib/python2.7/site-packages/tensorflow/python/ops/nn_grad.py\", line 100, in _VerifyTensor\n    verify_input = array_ops.check_numerics(t, message=msg)\n  File \"/Users/enricofonda/anaconda/lib/python2.7/site-packages/tensorflow/python/ops/gen_array_ops.py\", line 48, in check_numerics\n    name=name)\n  File \"/Users/enricofonda/anaconda/lib/python2.7/site-packages/tensorflow/python/ops/op_def_library.py\", line 633, in apply_op\n    op_def=op_def)\n  File \"/Users/enricofonda/anaconda/lib/python2.7/site-packages/tensorflow/python/framework/ops.py\", line 1710, in create_op\n    original_op=self._default_original_op, op_def=op_def)\n  File \"/Users/enricofonda/anaconda/lib/python2.7/site-packages/tensorflow/python/framework/ops.py\", line 988, in __init__\n    self._traceback = _extract_stack()\n\n...which was originally created as op u'Relu_1', defined at:\n  File \"/Users/enricofonda/anaconda/lib/python2.7/runpy.py\", line 162, in _run_module_as_main\n    \"__main__\", fname, loader, pkg_name)\n[elided 17 identical lines from previous traceback]\n  File \"/Users/enricofonda/anaconda/lib/python2.7/site-packages/IPython/core/interactiveshell.py\", line 3066, in run_code\n    exec(code_obj, self.user_global_ns, self.user_ns)\n  File \"<ipython-input-58-2e31c646be76>\", line 35, in <module>\n    logits = tf.matmul(tf.nn.relu(intermediate2), weights3) + biases3\n  File \"/Users/enricofonda/anaconda/lib/python2.7/site-packages/tensorflow/python/ops/gen_nn_ops.py\", line 506, in relu\n    return _op_def_lib.apply_op(\"Relu\", features=features, name=name)\n  File \"/Users/enricofonda/anaconda/lib/python2.7/site-packages/tensorflow/python/ops/op_def_library.py\", line 633, in apply_op\n    op_def=op_def)\n  File \"/Users/enricofonda/anaconda/lib/python2.7/site-packages/tensorflow/python/framework/ops.py\", line 1710, in create_op\n    original_op=self._default_original_op, op_def=op_def)\n  File \"/Users/enricofonda/anaconda/lib/python2.7/site-packages/tensorflow/python/framework/ops.py\", line 988, in __init__\n    self._traceback = _extract_stack()\n"
     ]
    }
   ],
   "source": [
    "num_steps = 10\n",
    "\n",
    "with tf.Session(graph=graph) as session:\n",
    "  tf.initialize_all_variables().run()\n",
    "  print \"Initialized\"\n",
    "  for step in xrange(num_steps):\n",
    "\n",
    "    offset = (step * batch_size) % (train_labels.shape[0] - batch_size)\n",
    "\n",
    "    batch_data = train_dataset[offset:(offset + batch_size), :]\n",
    "    batch_labels = train_labels[offset:(offset + batch_size), :]\n",
    "\n",
    "    feed_dict = {tf_train_dataset : batch_data, tf_train_labels : batch_labels}\n",
    "    _, l, predictions = session.run(\n",
    "      [optimizer, loss, train_prediction], feed_dict=feed_dict)\n",
    "    \n",
    "    if (step % 4 == 0):\n",
    "      print \"Minibatch loss at step\", step, \":\", l\n",
    "      print \"Minibatch accuracy: %.1f%%\" % accuracy(predictions, batch_labels)\n",
    "      print \"Validation accuracy: %.1f%%\" % accuracy(\n",
    "        valid_prediction.eval(), valid_labels)\n",
    "    \n",
    "  print \"Test accuracy: %.1f%%\" % accuracy(test_prediction.eval(), test_labels)"
   ]
  },
  {
   "cell_type": "code",
   "execution_count": null,
   "metadata": {
    "collapsed": true
   },
   "outputs": [],
   "source": []
  }
 ],
 "metadata": {
  "colab": {
   "default_view": {},
   "name": "3_regularization.ipynb",
   "provenance": [],
   "version": "0.3.2",
   "views": {}
  },
  "kernelspec": {
   "display_name": "Python 2",
   "language": "python",
   "name": "python2"
  },
  "language_info": {
   "codemirror_mode": {
    "name": "ipython",
    "version": 2
   },
   "file_extension": ".py",
   "mimetype": "text/x-python",
   "name": "python",
   "nbconvert_exporter": "python",
   "pygments_lexer": "ipython2",
   "version": "2.7.11"
  }
 },
 "nbformat": 4,
 "nbformat_minor": 0
}
